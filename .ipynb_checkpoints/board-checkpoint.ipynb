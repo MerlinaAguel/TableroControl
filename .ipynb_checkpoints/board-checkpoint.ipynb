{
 "cells": [
  {
   "cell_type": "code",
   "execution_count": 7,
   "id": "3fe00188-e112-4054-a2f4-45621e8ae4a6",
   "metadata": {
    "scrolled": true
   },
   "outputs": [],
   "source": [
    "import pandas as pd\n",
    "import matplotlib.pyplot as plt\n",
    "import seaborn as sns"
   ]
  },
  {
   "cell_type": "code",
   "execution_count": 8,
   "id": "9ec74d5d-789a-4d00-8e47-51c2cf111ea2",
   "metadata": {},
   "outputs": [],
   "source": [
    "#Estilo de las visualizaciones\n",
    "plt.style.use('ggplot')\n",
    "sns.set_theme(style=\"whitegrid\")"
   ]
  },
  {
   "cell_type": "code",
   "execution_count": 9,
   "id": "c743434a-a094-46a1-b766-b0537433f2d2",
   "metadata": {},
   "outputs": [],
   "source": [
    "#Carga de los datos\n",
    "base_datos_df= pd.read_excel('/Users/merlinaaguel/tablero_control_biferdil/data/clientes.xlsx', sheet_name='BASE DE DATOS')"
   ]
  },
  {
   "cell_type": "code",
   "execution_count": 15,
   "id": "eb1a935d-9eb6-4ba3-ba97-9d31939ef0db",
   "metadata": {},
   "outputs": [],
   "source": [
    "#Ventas por cliente\n",
    "ventas_cliente = base_datos_df.groupby(['CLIENTE','RAZÓN SOCIAL'])['PESOS'].sum().sort_values(ascending=False)\n",
    "unidades_cliente = base_datos_df.groupby(['RAZÓN SOCIAL', 'CLIENTE']) ['UNIDADES'].sum()\n",
    "\n",
    "#Combinación de ambas variables en un DataFrame\n",
    "mayor_menor_df= ventas_cliente.reset_index()\n",
    "mayor_menor_df['UNIDADES'] = mayor_menor_df.apply(lambda row:unidades_cliente.loc[(row['RAZÓN SOCIAL'], row['CLIENTE'])], axis=1)\n"
   ]
  },
  {
   "cell_type": "code",
   "execution_count": 17,
   "id": "4cc48479-87a4-4ee2-a1b0-d2666efbea90",
   "metadata": {},
   "outputs": [],
   "source": [
    "#Tabla con estilo de bordes y colores\n",
    "tabla_estilo = mayor_menor_df.style.set_table_styles([\n",
    "    {'selector': 'th', 'props': [('background-color', '#4f81bd'), ('color', 'white'), ('border', '1px solid black')]},\n",
    "    {'selector': 'td', 'props': [('border', '1px solid black')]}]).set_properties(**{\n",
    "    'background-color': '#d9e2f3', 'border': '1px solid black'})"
   ]
  },
  {
   "cell_type": "code",
   "execution_count": 19,
   "id": "6f02c911-5c70-492b-a924-5d343b5c39a5",
   "metadata": {},
   "outputs": [
    {
     "name": "stdout",
     "output_type": "stream",
     "text": [
      "<pandas.io.formats.style.Styler object at 0x1085e71a0>\n"
     ]
    }
   ],
   "source": [
    "#Visualización de la tabla con los clientes ordenados por ventas y con estilos agregados\n",
    "print(tabla_estilo)"
   ]
  },
  {
   "cell_type": "code",
   "execution_count": null,
   "id": "378bb254-a3a3-4fda-a917-27c193c15ae4",
   "metadata": {},
   "outputs": [],
   "source": []
  }
 ],
 "metadata": {
  "kernelspec": {
   "display_name": "Biferdil Board",
   "language": "python",
   "name": "env"
  },
  "language_info": {
   "codemirror_mode": {
    "name": "ipython",
    "version": 3
   },
   "file_extension": ".py",
   "mimetype": "text/x-python",
   "name": "python",
   "nbconvert_exporter": "python",
   "pygments_lexer": "ipython3",
   "version": "3.12.1"
  }
 },
 "nbformat": 4,
 "nbformat_minor": 5
}
